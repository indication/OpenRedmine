{
  "nbformat": 4,
  "nbformat_minor": 0,
  "metadata": {
    "colab": {
      "name": "RBF Network",
      "provenance": [],
      "collapsed_sections": [],
      "toc_visible": true,
      "include_colab_link": true
    },
    "kernelspec": {
      "name": "python3",
      "display_name": "Python 3"
    }
  },
  "cells": [
    {
      "cell_type": "markdown",
      "metadata": {
        "id": "view-in-github",
        "colab_type": "text"
      },
      "source": [
        "<a href=\"https://colab.research.google.com/github/titokenzo/OpenRedmine/blob/master/RBF/RBF_Network.ipynb\" target=\"_parent\"><img src=\"https://colab.research.google.com/assets/colab-badge.svg\" alt=\"Open In Colab\"/></a>"
      ]
    },
    {
      "cell_type": "markdown",
      "metadata": {
        "id": "7A0GQWDGtrpX"
      },
      "source": [
        "# Rede Neural de Base Radial (RBF)"
      ]
    },
    {
      "cell_type": "markdown",
      "metadata": {
        "id": "r7W_VNPAkFcO"
      },
      "source": [
        "As redes RBF são redes de alimentação direta (feedforward) consistindo de três camadas:\n",
        "\n",
        "\n",
        "1.   **Camada de entrada**: propaga os estímulos\n",
        "2.   **Camada escondida**: Unidades de processamento localmente sintonizáveis, utilizando mapeamento não linear.\n",
        "3.   **Camada de saída**: Unidades de processamento lineares.\n",
        "\n",
        "\n",
        "****\n",
        "\n",
        "**O treinamento dessa rede ocorre de forma híbrida**, combinando aprendizagem não supervisionada (ANS) com a supervisionada(AS). Isso ocorre, pois em geral não se sabe quais saídas se desejam para a camada escondida. Sendo assim, a distribuição de trabalhos ocorre:\n",
        "*   **ANS**: Treina a camada escondida definindo seus parâmetros livres (centros, larguras dos campos receptivos e pesos).\n",
        "*   **AS**: Determina os valores dos pesos entre as camadas escondidas e de saída, considerando constantes os parâmetros já definidos.\n",
        "\n",
        "\n",
        "****\n",
        "\n",
        "**O aprendizado consiste em** determinar os valores para:\n",
        "*   centro das funções de base radial,\n",
        "*   largura das funções,\n",
        "*   pesos da camada de saída.\n",
        "\n",
        "\n",
        "Além disso, para cada neurônio da camada escondida, ele computa uma função de base radial.\n",
        "\n",
        "\n",
        "Os passos necessários são:\n",
        "1.   Utilizar um algoritmo ANS para encontrar os centros (protótipo para um cluster) das RBF;\n",
        "2.   Utilizar métodos heurísticos para determinar a largura (área de influência de um cluster) de cada função;\n",
        "3.   Utilizar um AS para determinar os pesos da camada de saída da rede."
      ]
    },
    {
      "cell_type": "markdown",
      "metadata": {
        "id": "EOIor4J3PFBL"
      },
      "source": [
        "1ª Etapa: Inicialização dos grupos com K-Means"
      ]
    },
    {
      "cell_type": "code",
      "metadata": {
        "id": "VHWuP3AXjvq1",
        "colab": {
          "base_uri": "https://localhost:8080/"
        },
        "outputId": "8e1d4e50-4ef5-437b-ec2c-559c09bb5122"
      },
      "source": [
        "!git clone https://github.com/titokenzo/redes_neurais_pos.git"
      ],
      "execution_count": 40,
      "outputs": [
        {
          "output_type": "stream",
          "text": [
            "fatal: destination path 'redes_neurais_pos' already exists and is not an empty directory.\n"
          ],
          "name": "stdout"
        }
      ]
    },
    {
      "cell_type": "markdown",
      "metadata": {
        "id": "_ulVaA8RPSwo"
      },
      "source": [
        "Definição da função de base radial"
      ]
    },
    {
      "cell_type": "code",
      "metadata": {
        "id": "YeqYYe9hPY4v"
      },
      "source": [
        "#função de base radial gaussiana\n",
        "def rbfGaussiana(x, c, s):\n",
        "    #return np.exp(-1 / (2 * s**2) * (x-c)**2)\n",
        "    return np.exp(-1 * ( (x-c)**2 / (2 * s**2)) )\n",
        "\n",
        "#função de Multiquadratica Inversa\n",
        "def rbfMultiquadraticaInversa(x, c, s):\n",
        "    return (1 / rbfMultiquadratica(x, c, s))\n",
        "\n",
        "def rbfMultiquadratica(x, c, s):\n",
        "    result = np.sqrt((s**2) + ((x-c)**2))\n",
        "    return result\n",
        "\n",
        "#função de cálculo da largura do campo receptivo em que se repete o mesmo valor pra todos os neurônios\n",
        "def computeEqualStds(centers,k):\n",
        "  dist = [np.sqrt(np.sum((c1 - c2) ** 2)) for c1 in centers for c2 in centers]\n",
        "  dMax = np.max(dist)\n",
        "  stds = np.repeat(dMax / np.sqrt(2 * k), k)\n",
        "  return stds\n",
        "\n",
        "#função de cálculo da largura do campo receptivo em que se NÃO repete o mesmo valor pra todos os neurônios\n",
        "def computeDifferentStds(centers,k):\n",
        "  dist = [np.sqrt(np.sum((c1 - c2) ** 2)) for c1 in centers for c2 in centers]\n",
        "  dMin = np.min(dist)\n",
        "  stds = np.repeat(dMin / 2, k)\n",
        "  return stds"
      ],
      "execution_count": 98,
      "outputs": []
    },
    {
      "cell_type": "markdown",
      "metadata": {
        "id": "fkrFhNWPLq41"
      },
      "source": [
        ""
      ]
    },
    {
      "cell_type": "markdown",
      "metadata": {
        "id": "52oUNimoPuK3"
      },
      "source": [
        "2ª Etapa - Treinamento de uma Rede Neural"
      ]
    },
    {
      "cell_type": "code",
      "metadata": {
        "id": "RGdrOhYfPzBu"
      },
      "source": [
        "from sklearn.cluster import KMeans\n",
        "import numpy as np\n",
        "\n",
        "class RBFNet(object):\n",
        "    \"\"\"Implementation of a Radial Basis Function Network\"\"\"\n",
        "\n",
        "    def __init__(self, k=3, attnumber=4, lr=0.01, epochs=100, rbf=rbfGaussiana, computeStds=computeEqualStds):\n",
        "        self.k = k  # grupos ou numero de neuronios na camada escondida (bases)\n",
        "        self.lr = lr # taxa de aprendizagem (learning rate)\n",
        "        self.epochs = epochs  # número de iterações\n",
        "        self.rbf = rbf # função de base radial\n",
        "        self.computeStds = computeStds  #função de cálculo da largura do campo receptivo\n",
        "\n",
        "        #inicializa os pesos\n",
        "        self.w = np.random.randn(self.k,attnumber)\n",
        "        #inicialisa os biasis\n",
        "        self.b = np.random.randn(1)\n",
        "\n",
        "    def fit(self, X, y):\n",
        "        self.stds = []\n",
        "        #K-Means pra pegar os centros inicias \n",
        "        #1º parâmetro da rede RBF\n",
        "        kmeans = KMeans(\n",
        "            n_clusters=self.k, init='random',\n",
        "            n_init=10, max_iter=300).fit(X)\n",
        "        self.centers = kmeans.cluster_centers_\n",
        "        print('centers: ', self.centers)\n",
        "        \n",
        "        #Cálculo da largura do campo receptivo\n",
        "        #2º parâmetro da rede RBF\n",
        "        self.stds = self.computeStds(self.centers,self.k)\n",
        "        # training\n",
        "        for epoch in range(self.epochs):\n",
        "            for i in range(X.shape[0]):\n",
        "                # forward pass\n",
        "                #calcula a saída de cada neurônio da função de base radial\n",
        "                phi = np.array([self.rbf(X[i], c, s) for c, s, in zip(self.centers, self.stds)])\n",
        "                #calcula somatório do produto da saída da função de base radial e os pesos\n",
        "                F = phi.T.dot(self.w)\n",
        "                F = np.sum(F) + self.b\n",
        "                #saída da rede\n",
        "                out = 0 if F < 0 else 1\n",
        "                \n",
        "                #função de perda \n",
        "                loss = (y[i] - out).flatten() ** 2\n",
        "                #print('Loss: {0:.2f}'.format(loss[0]))\n",
        "\n",
        "                #cálculo do erro\n",
        "                error = (y[i] - out).flatten()\n",
        "                #atualização dos pesos\n",
        "                #3º Parâmetro da rede \n",
        "                self.w = self.w + self.lr * error * phi \n",
        "                self.b = self.b + self.lr * error\n",
        "\n",
        "    #calcula saída da rede RBF com a rede treinada\n",
        "    def predict(self, X):\n",
        "        y_pred = []\n",
        "        error = 0\n",
        "        for i in range(X.shape[0]):\n",
        "            a = np.array([self.rbf(X[i], c, s) for c, s, in zip(self.centers, self.stds)])\n",
        "            F = a.T.dot(self.w)\n",
        "            F = np.sum(F) + self.b\n",
        "            out = 0 if F < 0 else 1\n",
        "            y_pred.append(out)\n",
        "\n",
        "        return np.array(y_pred)\n"
      ],
      "execution_count": 99,
      "outputs": []
    },
    {
      "cell_type": "markdown",
      "metadata": {
        "id": "tWNpEtxSW46Q"
      },
      "source": [
        "\n",
        "\n",
        "```\n",
        "# Isto está formatado como código\n",
        "```\n",
        "\n",
        "# Executando a rede neural RBF"
      ]
    },
    {
      "cell_type": "code",
      "metadata": {
        "id": "P75CdFJ4W7mU",
        "colab": {
          "base_uri": "https://localhost:8080/"
        },
        "outputId": "64011adb-ca63-4de5-ef5d-93f19f71d400"
      },
      "source": [
        "# Neste código vou utilizar o pandas, framework amplamente utilizado pra lidar com dados\n",
        "import pandas as pd\n",
        "from sklearn.model_selection import train_test_split\n",
        "from sklearn import preprocessing\n",
        "from matplotlib import pyplot as plt\n",
        "\n",
        "#carrega a base de dados e retorna conjuntos de treinamento e teste\n",
        "def load_data():\n",
        "    url = 'redes_neurais_pos/RBF/iris.csv'\n",
        "    df = pd.read_csv(url)\n",
        "    #remove a ultima coluna (dados)\n",
        "    data = df[df.columns[:-1]]\n",
        "    #normaliza os dados\n",
        "    normalized_data = (data - data.min()) / (data.max() - data.min())\n",
        "    #retorna a última coluna (rótulos)\n",
        "    labels = df[df.columns[-1]]\n",
        "    #separa em conjunto de treinamento e teste com seus respectivos rótulos\n",
        "    X_train, X_test, y_train, y_test = train_test_split(normalized_data, labels, test_size=0.2, random_state=0)\n",
        "    \n",
        "    return X_train, X_test, y_train, y_test\n",
        "\n",
        "#chama função que carrega base de dados\n",
        "training_inputs, test_inputs, training_labels, test_labels = load_data()\n",
        "\n",
        "#transforma rótulos do conjunto de treinamento em numeros pra calculo do erro\n",
        "labelEncoder = preprocessing.LabelEncoder()\n",
        "labelEncoder.fit(training_labels.values)\n",
        "training_labels_transformed = labelEncoder.transform(training_labels.values)\n",
        "\n",
        "#chama RBF\n",
        "#rbfnet = RBFNet(lr=1e-2, attnumber=4, k=9, rbf=rbfGaussiana, computeStds=computeEqualStds)\n",
        "#rbfnet = RBFNet(lr=1e-2, attnumber=4, k=9, rbf=rbfGaussiana, computeStds=computeDifferentStds)\n",
        "#rbfnet = RBFNet(lr=1e-2, attnumber=4, k=9, rbf=rbfMultiquadraticaInversa, computeStds=computeEqualStds)\n",
        "rbfnet = RBFNet(lr=1e-2, attnumber=4, k=9, rbf=rbfMultiquadraticaInversa, computeStds=computeDifferentStds)\n",
        "rbfnet.fit(training_inputs.values, training_labels_transformed)\n",
        "\n",
        "#transforma rótulos do conjunto de teste em numeros pra calculo do erro\n",
        "labelEncoder = preprocessing.LabelEncoder()\n",
        "labelEncoder.fit(test_labels.values)\n",
        "test_labels_transformed = labelEncoder.transform(test_labels.values)\n",
        "\n",
        "y_pred = rbfnet.predict(test_labels_transformed)\n",
        "\n",
        "errorabs = abs(test_labels_transformed-y_pred)\n",
        "\n",
        "print('error: ', np.sum(errorabs)/len(test_labels_transformed))\n",
        "\n",
        "#-----------------------------------------------------------------\n",
        "\n"
      ],
      "execution_count": 112,
      "outputs": [
        {
          "output_type": "stream",
          "text": [
            "centers:  [[0.87962963 0.45833333 0.90018832 0.77777778]\n",
            " [0.11111111 0.46590909 0.06625578 0.03030303]\n",
            " [0.31944444 0.8125     0.08135593 0.07083333]\n",
            " [0.65277778 0.43333333 0.62033898 0.57083333]\n",
            " [0.51388889 0.33522727 0.70570108 0.74242424]\n",
            " [0.203125   0.60677083 0.08050847 0.07291667]\n",
            " [0.64957265 0.51602564 0.7874837  0.92628205]\n",
            " [0.41666667 0.36458333 0.54519774 0.52083333]\n",
            " [0.34201389 0.19010417 0.49364407 0.45833333]]\n"
          ],
          "name": "stdout"
        },
        {
          "output_type": "stream",
          "text": [
            "/usr/local/lib/python3.6/dist-packages/ipykernel_launcher.py:8: RuntimeWarning: divide by zero encountered in true_divide\n",
            "  \n",
            "/usr/local/lib/python3.6/dist-packages/ipykernel_launcher.py:52: RuntimeWarning: invalid value encountered in multiply\n"
          ],
          "name": "stderr"
        },
        {
          "output_type": "stream",
          "text": [
            "error:  0.6666666666666666\n"
          ],
          "name": "stdout"
        }
      ]
    },
    {
      "cell_type": "markdown",
      "metadata": {
        "id": "jLO2Gq4Jtso3"
      },
      "source": [
        "# Descrição Mini Projeto"
      ]
    },
    {
      "cell_type": "markdown",
      "metadata": {
        "id": "kOrl4i0areNo"
      },
      "source": [
        "Utilizando o código acima, modifique a última seção (Executando com Base de Dados) para que ele seja executado com a base de dados do arquivo iris.csv. Depois, modifique a função de base radial implementada (Gaussiana) para Multiquadrática Inversa e calcule a taxa de erro.\n",
        "\n",
        "\n",
        "1- Calcular a quantidade de neurônios escondidos:\n",
        "\n",
        "a) 3\n",
        "\n",
        "b) 5\n",
        "\n",
        "c) 7\n",
        "\n",
        "d) 9\n",
        "\n",
        "Qual foi a melhor configuração? Avaliaria um outro valor?\n",
        "<pre>\n",
        "R. Gaussiana\n",
        "  3 = 0.666\n",
        "  5 = 0.266\n",
        "  7 = 0.266\n",
        "  9 = 0.266\n",
        "Multiquadrática Inversa\n",
        "  3 = 0.666\n",
        "  5 = 0.666\n",
        "  7 = 0.666\n",
        "  9 = 0.666\n",
        "\n",
        "Para a configuração Gaussiana com 5 neurônios, já obtivemos a taxa 0.266.\n",
        "\n",
        "A taxa não parece melhorar com o aumento dos neurônios escondidos, \n",
        "logo não faz sentido testar novas configurações.\n",
        "</pre>\n",
        "\n",
        "2- Utilizando a melhor configuração da questão anterior, calcular a taxa de erro usando uma das outras maneiras de retorno da largura do campo receptivo da função de base radial, em que cada neurônio possui sua própria largura. \n",
        "<pre>\n",
        "R. Utilizando a base Gaussiana, com 5 ou mais neurônios escondidos, \n",
        "mas com larguras próprias, a taxa aumentou para 0.666.\n",
        "\n",
        "rbfnet = RBFNet(lr=1e-2, attnumber=4, k=9, rbf=rbfGaussiana, computeStds=computeDifferentStds)\n",
        "error: 0.6666666\n",
        "</pre>\n",
        "\n",
        "3- Calcular a taxa de erro combinando 2 funções de Base Radial e as duas maneiras de cálculo da largura do campo receptivo:\n",
        "\n",
        "a) Gaussiana\n",
        "\n",
        "b) Multiquadrática Inversa\n",
        "\n",
        "\n",
        "Qual foi a melhor configuração?\n",
        "<pre>\n",
        "A Gaussiana apresentou melhores resultados, com neurônios acima de 5 e mesma largura de campo.\n",
        "\n",
        "rbfnet = RBFNet(lr=1e-2, attnumber=4, k=5, rbf=rbfGaussiana, computeStds=computeEqualStds)\n",
        "error: 0.2666666\n",
        "</pre>\n",
        "\n",
        "\n",
        "\n",
        "DATA DE ENTREGA: 25/11/2020\n"
      ]
    },
    {
      "cell_type": "code",
      "metadata": {
        "id": "e6mb6IPviNkw"
      },
      "source": [
        ""
      ],
      "execution_count": null,
      "outputs": []
    }
  ]
}